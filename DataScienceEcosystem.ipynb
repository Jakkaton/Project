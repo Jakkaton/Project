{
 "cells": [
  {
   "cell_type": "markdown",
   "id": "4111aa1f-aa6a-44e4-a7b0-831cfede0710",
   "metadata": {},
   "source": [
    "# Data Science Tools and Ecosystem"
   ]
  },
  {
   "cell_type": "markdown",
   "id": "7adbcb47-5828-41a0-aec3-53b08d31a38a",
   "metadata": {},
   "source": [
    "In this notebook, Data Science Tools and Ecosystem are summarized."
   ]
  },
  {
   "cell_type": "markdown",
   "id": "1b60753e-605a-4598-b454-ae364f023d2c",
   "metadata": {
    "tags": []
   },
   "source": [
    "***Objectives:***\n",
    "- Python\n",
    "- R\n",
    "- Java"
   ]
  },
  {
   "cell_type": "markdown",
   "id": "d2dabf98-e0f9-4dda-8982-d3b1e6865d86",
   "metadata": {},
   "source": [
    "Some of the popular languages that Data Scientists use are:"
   ]
  },
  {
   "cell_type": "markdown",
   "id": "0753a6e2-f37d-47f4-818a-c3326233fcba",
   "metadata": {},
   "source": [
    "- Python\n",
    "- R\n",
    "- Java"
   ]
  },
  {
   "cell_type": "markdown",
   "id": "ec583231-8012-4afd-a5dd-21d099a54eaa",
   "metadata": {},
   "source": [
    "Some of the commonly used libraries used by Data Scientists include:"
   ]
  },
  {
   "cell_type": "markdown",
   "id": "56ca657e-c95a-4ede-adf7-0ea6960e2382",
   "metadata": {},
   "source": [
    "- Pandas\n",
    "- Numpy\n",
    "- Matplotlib"
   ]
  },
  {
   "cell_type": "markdown",
   "id": "d3aa02e1-7ba7-44d4-9340-6e0d94db6e6f",
   "metadata": {},
   "source": [
    "| Data Science Tools |\n",
    "| -------------|\n",
    "| Pandas|\n",
    "| Hadoop |\n",
    "| R studio's |"
   ]
  },
  {
   "cell_type": "markdown",
   "id": "cb3e82bc-cd05-411a-b99f-a1ee38dda3bc",
   "metadata": {},
   "source": [
    "### Below are a few examples of evaluating arithmetic expressions in Python"
   ]
  },
  {
   "cell_type": "code",
   "execution_count": 2,
   "id": "4f8a4cd8-250b-4abf-9b58-b35ae81357dd",
   "metadata": {
    "tags": []
   },
   "outputs": [
    {
     "data": {
      "text/plain": [
       "17"
      ]
     },
     "execution_count": 2,
     "metadata": {},
     "output_type": "execute_result"
    }
   ],
   "source": [
    "# This a simple arithmetic expression to mutiply then add integers\n",
    "(3*4)+5"
   ]
  },
  {
   "cell_type": "code",
   "execution_count": 3,
   "id": "dd5d7ee6-4cee-474c-ad55-0ca83889ecae",
   "metadata": {
    "tags": []
   },
   "outputs": [
    {
     "data": {
      "text/plain": [
       "3.3333333333333335"
      ]
     },
     "execution_count": 3,
     "metadata": {},
     "output_type": "execute_result"
    }
   ],
   "source": [
    "# This will convert 200 minutes to hours by diving by 60\n",
    "200 / 60"
   ]
  },
  {
   "cell_type": "markdown",
   "id": "35d58186-7885-438d-a783-62bb791e95fb",
   "metadata": {},
   "source": [
    "## Author"
   ]
  },
  {
   "cell_type": "markdown",
   "id": "3a780b38-a3b7-478b-8560-b489be80f0ba",
   "metadata": {},
   "source": [
    "Jakkaton Kanata"
   ]
  }
 ],
 "metadata": {
  "kernelspec": {
   "display_name": "Python",
   "language": "python",
   "name": "conda-env-python-py"
  },
  "language_info": {
   "codemirror_mode": {
    "name": "ipython",
    "version": 3
   },
   "file_extension": ".py",
   "mimetype": "text/x-python",
   "name": "python",
   "nbconvert_exporter": "python",
   "pygments_lexer": "ipython3",
   "version": "3.7.12"
  }
 },
 "nbformat": 4,
 "nbformat_minor": 5
}
